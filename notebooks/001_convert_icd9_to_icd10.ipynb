{
 "cells": [
  {
   "cell_type": "code",
   "execution_count": 1,
   "id": "8831d9fc-920c-44e0-8c5b-d27aafdfd513",
   "metadata": {},
   "outputs": [],
   "source": [
    "import pandas as pd\n",
    "import numpy as np\n",
    "from tqdm import tqdm, trange\n",
    "from datetime import datetime\n",
    "import sys, os\n",
    "sys.path.append(os.path.abspath(\"../src/\"))\n",
    "from data_helper import get_days, load_config\n",
    "\n",
    "config = load_config('../config/mimic_file.yaml')\n"
   ]
  },
  {
   "cell_type": "code",
   "execution_count": 7,
   "id": "ec44d5f4-3f51-4d2f-a1d7-1023cc3e3a4d",
   "metadata": {},
   "outputs": [],
   "source": [
    "MIMIC_IV_path = config['project']['mimic_parent_math']\n",
    "diagnoses_icd_df = pd.read_csv(MIMIC_IV_path+'hosp/diagnoses_icd.csv.gz', index_col = 0, compression='gzip')"
   ]
  },
  {
   "cell_type": "code",
   "execution_count": 2,
   "id": "4b5f606e-4c3b-4533-8994-059daac7dcf3",
   "metadata": {},
   "outputs": [],
   "source": [
    "icd_map = pd.read_pickle('/data/padmalab/ecg/data/external/mimic_icd_9_icd_10_map.pickle')"
   ]
  },
  {
   "cell_type": "code",
   "execution_count": null,
   "id": "4845d140-4701-45f9-9803-c0214e0d5940",
   "metadata": {},
   "outputs": [
    {
     "name": "stderr",
     "output_type": "stream",
     "text": [
      " 95%|████████████████████████████████████████████████████████████████████████████████████████████████████████████████████████████████████████████████▉        | 6028377/6364520 [1:45:37<04:22, 1279.45it/s]"
     ]
    }
   ],
   "source": [
    "diagnoses_icd_df['icd_10_code'] = np.nan\n",
    "# Loop assign the\n",
    "with tqdm(total=diagnoses_icd_df.shape[0]) as pbar:\n",
    "    for index, row in diagnoses_icd_df.iterrows():\n",
    "        if row['icd_version'] == 10:\n",
    "            diagnoses_icd_df.loc[index, 'icd_10_code'] = row['icd_code'][:3] + '.' + row['icd_code'][3:]\n",
    "        else:\n",
    "            icd_9 = row['icd_code'][:3] + '.' + row['icd_code'][3:]\n",
    "            if icd_map[icd_map['icd9'] == icd_9].shape[0] > 0:\n",
    "                icd_10 = icd_map[icd_map['icd9'] == icd_9].iloc[0]['icd10']\n",
    "                diagnoses_icd_df.loc[index, 'icd_10_code'] = icd_10            \n",
    "        pbar.update(1)"
   ]
  },
  {
   "cell_type": "code",
   "execution_count": null,
   "id": "ef8511b8-31dc-415e-b5e7-2e7fc15f194f",
   "metadata": {},
   "outputs": [],
   "source": [
    "diagnoses_icd_df.to_csv(MIMIC_IV_path+'hosp/diagnoses_icd10.csv.gz', compression='gzip')"
   ]
  }
 ],
 "metadata": {
  "kernelspec": {
   "display_name": "Python 3 (ipykernel)",
   "language": "python",
   "name": "python3"
  },
  "language_info": {
   "codemirror_mode": {
    "name": "ipython",
    "version": 3
   },
   "file_extension": ".py",
   "mimetype": "text/x-python",
   "name": "python",
   "nbconvert_exporter": "python",
   "pygments_lexer": "ipython3",
   "version": "3.10.4"
  }
 },
 "nbformat": 4,
 "nbformat_minor": 5
}
