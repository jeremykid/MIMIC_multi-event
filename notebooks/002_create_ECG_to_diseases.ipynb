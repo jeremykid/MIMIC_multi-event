{
 "cells": [
  {
   "cell_type": "code",
   "execution_count": 8,
   "id": "64cfdc37-871e-4d45-8404-4cba34e77c30",
   "metadata": {},
   "outputs": [],
   "source": [
    "import pandas as pd\n",
    "import numpy as np\n",
    "from tqdm import tqdm, trange\n",
    "from datetime import datetime\n",
    "import sys, os\n",
    "sys.path.append(os.path.abspath(\"../src/\"))\n",
    "from data_helper import get_days, load_config\n",
    "\n",
    "config = load_config('../config/mimic_file.yaml')\n",
    "\n",
    "# which Dx codes\n",
    "ICD_10_code = 'I48' # heart Failure\n",
    "Dx_name = 'Atribe_fibeliation'\n",
    "seq_threshold = 3 #only sequence <= 3 been considered (1-3 are primary dx, > 3 are commorbality)\n",
    "\n",
    "MIMIC_IV_path = config['project']['mimic_parent_math']\n",
    "ecg_record_df = pd.read_csv(config['project']['ecg_record_path'])\n",
    "admissions = pd.read_csv(MIMIC_IV_path+'hosp/admissions.csv.gz', compression='gzip')\n",
    "diagnoses_icd10_df = pd.read_csv(MIMIC_IV_path+'hosp/diagnoses_icd10.csv', index_col = 0)\n",
    "\n",
    "patients = ecg_record_df['subject_id'].unique()\n",
    "\n",
    "ecg_record_df[f'{Dx_name}_time'] = np.nan\n",
    "ecg_record_df[f'{Dx_name}_event'] = False\n",
    "\n",
    "# get hadmi include ICD_10_code\n",
    "dx_df = diagnoses_icd10_df[diagnoses_icd10_df['icd_10_code'].str.contains(f'^{ICD_10_code}', na=False)]\n",
    "with tqdm(total=len(patients)) as pbar:\n",
    "    for subject_id in patients:\n",
    "        pat_ecg_df = ecg_record_df[ecg_record_df['subject_id'] == subject_id]\n",
    "        pat_dx_df = dx_df[dx_df['subject_id'] == subject_id]\n",
    "        dx_hadm_id_list = pat_dx_df[pat_dx_df['seq_num'] <= seq_threshold]['hadm_id'].unique().tolist()\n",
    "        pat_dx_admission = admissions[admissions['hadm_id'].isin(dx_hadm_id_list)]\n",
    "        # for each patient\n",
    "        for index, temp in pat_ecg_df.iterrows():\n",
    "            pat_dx_admission = pat_dx_admission[temp['ecg_time'] < pat_dx_admission['admittime']]\n",
    "            time = None\n",
    "            event = False\n",
    "            # for each ECG\n",
    "            if pat_dx_admission.shape[0] > 0:\n",
    "                next_dx_event_date = min(pat_dx_admission['admittime'])\n",
    "                time = get_days(next_dx_event_date, temp['ecg_time'])\n",
    "                ecg_record_df.loc[index, [f'{Dx_name}_time', f'{Dx_name}_event']] = [time, True]\n",
    "        pbar.update(1)\n",
    "        \n",
    "ecg_record_df[['subject_id', 'study_id', f'{Dx_name}_time', f'{Dx_name}_event']].to_pickle(f\"/data/padmalab_external/special_project/multi_event_data/MIMIC_ECG_{Dx_name}.pickle\")\n",
    "                                                                                                         "
   ]
  }
 ],
 "metadata": {
  "kernelspec": {
   "display_name": "Python 3 (ipykernel)",
   "language": "python",
   "name": "python3"
  },
  "language_info": {
   "codemirror_mode": {
    "name": "ipython",
    "version": 3
   },
   "file_extension": ".py",
   "mimetype": "text/x-python",
   "name": "python",
   "nbconvert_exporter": "python",
   "pygments_lexer": "ipython3",
   "version": "3.10.4"
  }
 },
 "nbformat": 4,
 "nbformat_minor": 5
}
