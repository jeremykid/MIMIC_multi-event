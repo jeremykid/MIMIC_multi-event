{
 "cells": [
  {
   "cell_type": "code",
   "execution_count": 1,
   "id": "4dba2c06-9506-4d2f-bc2b-363ca8de7290",
   "metadata": {},
   "outputs": [],
   "source": [
    "import pandas as pd\n",
    "import ast\n",
    "import re\n",
    "\n",
    "ecg_icd_df = pd.read_csv('/data/padmalab_external/special_project/physionet.org/files/mimic-iv-ecg-ext-icd-labels/1.0.1/records_w_diag_icd10.csv')\n",
    "ecg_icd_df['all_diag_hosp'] = ecg_icd_df['all_diag_hosp'].apply(ast.literal_eval)"
   ]
  },
  {
   "cell_type": "code",
   "execution_count": 31,
   "id": "0b4587e0-f66b-4d67-bbde-a5a838596949",
   "metadata": {},
   "outputs": [],
   "source": [
    "diagnosis_dict = {\n",
    "    \"Non-ST_elevation_(NSTEMI)_myocardial_infarction\": ['I214'],\n",
    "    \"ST_elevation_(STEMI)_myocardial_infarction\": ['I210', 'I211', 'I212', 'I213'],\n",
    "    'Heart_failure': ['I50', 'I43', 'I099', 'I110', 'I130','I132', 'I255','I420','I425','I426','I427','I428','I429','P290'],\n",
    "    \"Unstable_angina\": ['I200'],\n",
    "    \"Atrial_fibrillation\": ['I48'],\n",
    "#     \"Syncope\": ['R55'],\n",
    "    \"Ventricular_tachycardia\":\t['I472'],\n",
    "    \"Cardiac_arrest\": ['I46'],\n",
    "    \"Supraventricular_tachycardia\": ['I471'],\n",
    "    \"Atrioventricular_block\": ['I440', 'I441', 'I442', 'I443'],    \n",
    "    \"Pulmonary_embolism\": [\"I26\", \"I2782\"], # except for I26.01 and I26.90\n",
    "    \"Aortic_Stenosis\": ['I350', 'I352', 'I060', 'I062'],\n",
    "#     \"Cardiac_Amyloidosis\": ['E85'], # or ICD-9 code of 277.3 only in HF cohort (HF cohort is identified by I50 in any Dx in any DAD or ED encounters, anytime between 2007 and 2020). Within this cohort select episodes with E85 in all positions (HF cohort - Amy episodes). \n",
    "    \"Pulmonary_Hypertension\": ['I270', 'I272'],\n",
    "    \n",
    "    \"Hypertrophic_Cardiomyopathy\": ['I421', 'I422'],\n",
    "    \"Mitral_Valve_Prolapse\": ['I340', 'I341', 'I051', 'I052', 'I058'],\n",
    "    \"Mitral_Valve_Stenosis\": ['I342', 'I050', 'I052'],\n",
    "#     'Cardiac_Amyloidosis': []\n",
    "}"
   ]
  },
  {
   "cell_type": "code",
   "execution_count": 6,
   "id": "f6875f1b-2410-4dce-afb7-81871e37e6e9",
   "metadata": {},
   "outputs": [],
   "source": [
    "\n",
    "\n"
   ]
  },
  {
   "cell_type": "code",
   "execution_count": 32,
   "id": "3f7cf836-644f-42fc-91fb-5b08ea85bae1",
   "metadata": {
    "tags": []
   },
   "outputs": [],
   "source": [
    "temp_dx_dict = {}\n",
    "for key, value in diagnosis_dict.items():\n",
    "    temp_dx_dict[key] = False"
   ]
  },
  {
   "cell_type": "code",
   "execution_count": 38,
   "id": "180815bd-982e-4490-b7be-916e89695c96",
   "metadata": {
    "tags": []
   },
   "outputs": [
    {
     "name": "stderr",
     "output_type": "stream",
     "text": [
      "100%|█████████████████████████████████████████████████████████████████████████████████████████████████████████████████████████████████████████████████████████████| 800035/800035 [01:32<00:00, 8675.92it/s]\n"
     ]
    }
   ],
   "source": [
    "pat_dx_list = []\n",
    "from tqdm import tqdm, trange\n",
    "with tqdm(total=ecg_icd_df.shape[0]) as pbar:\n",
    "    for index, row in ecg_icd_df.iterrows():\n",
    "        pat_dx_dict = temp_dx_dict.copy()\n",
    "        pat_dx_dict['study_id'] = row['study_id']\n",
    "        for key,value in diagnosis_dict.items():\n",
    "            r = re.compile('|'.join(value))\n",
    "            count_match = list(filter(r.match, row['all_diag_hosp'])) # Read Note below\n",
    "            if count_match != []:\n",
    "                pat_dx_dict[key] = True\n",
    "        pat_dx_list.append(pat_dx_dict)\n",
    "        pbar.update(1)"
   ]
  },
  {
   "cell_type": "code",
   "execution_count": 40,
   "id": "15eb1ca4-491b-4698-bd87-f5d67770cd78",
   "metadata": {},
   "outputs": [],
   "source": [
    "dx_df = pd.DataFrame.from_records(pat_dx_list)"
   ]
  },
  {
   "cell_type": "code",
   "execution_count": 60,
   "id": "739df416-1716-40dc-81a3-92593f2ff9d8",
   "metadata": {},
   "outputs": [],
   "source": [
    "dx_df.to_csv('/data/padmalab_external/special_project/multi_event_data/MIMIC_IV_ECG_15_Dx.csv')"
   ]
  },
  {
   "cell_type": "code",
   "execution_count": 57,
   "id": "15b1c318-9182-4c75-88bf-264bafd0576b",
   "metadata": {},
   "outputs": [],
   "source": [
    "dx_summary_dict = {\n",
    "    'DX column': [],\n",
    "    'Positive': [],\n",
    "    'Negative': [],    \n",
    "}\n",
    "for column in dx_df.columns:\n",
    "    dx_summary_dict['DX column'].append(column)\n",
    "    dx_summary_dict['Positive'].append(f\"{dx_df[column].value_counts()[True]} ({round(dx_df[column].value_counts(normalize=True)[True], 4)})\")\n",
    "    dx_summary_dict['Negative'].append(f\"{dx_df[column].value_counts()[False]} ({round(dx_df[column].value_counts(normalize=True)[False], 4)})\")\n"
   ]
  },
  {
   "cell_type": "code",
   "execution_count": 59,
   "id": "c246efac-22a1-42b2-9993-0ddf4f3d286e",
   "metadata": {},
   "outputs": [],
   "source": [
    "pd.DataFrame.from_dict(dx_summary_dict).to_csv('MIMIC_IV_ECG_Dx.csv')"
   ]
  }
 ],
 "metadata": {
  "kernelspec": {
   "display_name": "Python 3 (ipykernel)",
   "language": "python",
   "name": "python3"
  },
  "language_info": {
   "codemirror_mode": {
    "name": "ipython",
    "version": 3
   },
   "file_extension": ".py",
   "mimetype": "text/x-python",
   "name": "python",
   "nbconvert_exporter": "python",
   "pygments_lexer": "ipython3",
   "version": "3.10.4"
  }
 },
 "nbformat": 4,
 "nbformat_minor": 5
}
