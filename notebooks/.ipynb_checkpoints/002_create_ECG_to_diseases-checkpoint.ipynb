{
 "cells": [
  {
   "cell_type": "code",
   "execution_count": 1,
   "id": "6d22fd7f-9ecd-473f-86a6-b5d06af2b222",
   "metadata": {},
   "outputs": [],
   "source": [
    "import pandas as pd\n",
    "import numpy as np\n",
    "from tqdm import tqdm, trange\n",
    "from datetime import datetime\n",
    "\n",
    "def get_days(date_str1, date_str2):\n",
    "    fmt = '%Y-%m-%d %H:%M:%S'\n",
    "\n",
    "    dt1 = datetime.strptime(date_str1, fmt)\n",
    "    dt2 = datetime.strptime(date_str2, fmt)\n",
    "\n",
    "    delta = dt1 - dt2\n",
    "    return (delta.days)"
   ]
  },
  {
   "cell_type": "code",
   "execution_count": 2,
   "id": "64cfdc37-871e-4d45-8404-4cba34e77c30",
   "metadata": {},
   "outputs": [],
   "source": [
    "MIMIC_IV_path = '/data/padmalab_external/special_project/MIMIC_IV/files/mimiciv/2.2/'\n",
    "admissions = pd.read_csv(MIMIC_IV_path+'hosp/admissions.csv')\n",
    "ecg_record_df = pd.read_csv('/data/padmalab_external/special_project/MIMIC-IV_ECG/physionet.org/files/mimic-iv-ecg/1.0/record_list.csv')\n",
    "diagnoses_icd10_df = pd.read_csv(MIMIC_IV_path+'hosp/diagnoses_icd10.csv', index_col = 0)"
   ]
  },
  {
   "cell_type": "code",
   "execution_count": 3,
   "id": "a2391db5-5ecd-49b9-94fd-931ecc436838",
   "metadata": {},
   "outputs": [],
   "source": [
    "# TODO\n",
    "patients = ecg_record_df['subject_id'].unique()\n",
    "# which Dx codes\n",
    "ICD_10_code = 'I48' # heart Failure\n",
    "Dx_name = 'Atribe_fibeliation'\n",
    "seq_threshold = 3 #only sequence <= 3 been considered (1-3 are primary dx, > 3 are commorbality)"
   ]
  },
  {
   "cell_type": "code",
   "execution_count": null,
   "id": "9ee0c4a6-f5cb-4d13-8f06-1b1e26bcafa7",
   "metadata": {},
   "outputs": [
    {
     "name": "stderr",
     "output_type": "stream",
     "text": [
      " 71%|███████████████████████████████████████████████████████████████████████████████████████████████████████████████▌                                              | 113898/161352 [14:00<05:39, 139.91it/s]"
     ]
    }
   ],
   "source": [
    "ecg_record_df[f'{Dx_name}_time'] = np.nan\n",
    "ecg_record_df[f'{Dx_name}_event'] = False\n",
    "\n",
    "# get hadmi include ICD_10_code\n",
    "dx_df = diagnoses_icd10_df[diagnoses_icd10_df['icd_10_code'].str.contains(f'^{ICD_10_code}', na=False)]\n",
    "with tqdm(total=len(patients)) as pbar:\n",
    "    for subject_id in patients:\n",
    "        pat_ecg_df = ecg_record_df[ecg_record_df['subject_id'] == subject_id]\n",
    "        pat_dx_df = dx_df[dx_df['subject_id'] == subject_id]\n",
    "        dx_hadm_id_list = pat_dx_df[pat_dx_df['seq_num'] <= seq_threshold]['hadm_id'].unique().tolist()\n",
    "        pat_dx_admission = admissions[admissions['hadm_id'].isin(dx_hadm_id_list)]\n",
    "        # for each patient\n",
    "        for index, temp in pat_ecg_df.iterrows():\n",
    "            pat_dx_admission = pat_dx_admission[temp['ecg_time'] < pat_dx_admission['admittime']]\n",
    "            time = None\n",
    "            event = False\n",
    "            # for each ECG\n",
    "            if pat_dx_admission.shape[0] > 0:\n",
    "                next_dx_event_date = min(pat_dx_admission['admittime'])\n",
    "                time = get_days(next_dx_event_date, temp['ecg_time'])\n",
    "                ecg_record_df.loc[index, [f'{Dx_name}_time', f'{Dx_name}_event']] = [time, True]\n",
    "        pbar.update(1)"
   ]
  },
  {
   "cell_type": "code",
   "execution_count": null,
   "id": "e817a037-501e-49ed-919f-ef2fadf6cc50",
   "metadata": {},
   "outputs": [],
   "source": [
    "ecg_record_df[['subject_id', 'study_id', 'Heart_failure_time', 'Heart_failure_event']].to_pickle('/data/padmalab_external/special_project/multi_event_data/MIMIC_ECG_AF.pickle')\n",
    "                                                                                                 "
   ]
  },
  {
   "cell_type": "code",
   "execution_count": null,
   "id": "ca3ab627-a0c5-4bb1-88d1-30c7714306bd",
   "metadata": {},
   "outputs": [],
   "source": [
    "# find the censor time or death time for each patients\n"
   ]
  },
  {
   "cell_type": "code",
   "execution_count": 12,
   "id": "da43e007-e286-420b-af7f-aa72aa9fcf30",
   "metadata": {},
   "outputs": [],
   "source": []
  }
 ],
 "metadata": {
  "kernelspec": {
   "display_name": "Python 3 (ipykernel)",
   "language": "python",
   "name": "python3"
  },
  "language_info": {
   "codemirror_mode": {
    "name": "ipython",
    "version": 3
   },
   "file_extension": ".py",
   "mimetype": "text/x-python",
   "name": "python",
   "nbconvert_exporter": "python",
   "pygments_lexer": "ipython3",
   "version": "3.10.4"
  }
 },
 "nbformat": 4,
 "nbformat_minor": 5
}
