{
 "cells": [
  {
   "cell_type": "code",
   "execution_count": 2,
   "id": "4e328b63-b7e5-45b5-8289-f7efd7c4cf2e",
   "metadata": {},
   "outputs": [],
   "source": [
    "import pandas as pd\n",
    "from tqdm import tqdm, trange\n",
    "\n",
    "import sys, os\n",
    "sys.path.append(os.path.abspath(\"../src/\"))\n",
    "from data_helper import get_days, load_config\n",
    "\n",
    "config = load_config('../config/mimic_file.yaml')\n",
    "# MIMIC_parent_path = \"/data/padmalab_external/special_project/physionet.org/files/mimiciv/3.0/\"\n",
    "MIMIC_parent_path = config['project']['mimic_parent_math']\n",
    "patents_df = pd.read_csv(MIMIC_parent_path+'hosp/patients.csv.gz', compression='gzip')\n",
    "death_df = patents_df[~patents_df['dod'].isna()][['subject_id', 'dod']]\n",
    "death_df['dod'] = pd.to_datetime(death_df['dod'])\n",
    "\n",
    "ed_df = pd.read_csv(MIMIC_parent_path+'ed/edstays.csv.gz', compression='gzip')\n",
    "ed_df['outtime'] = pd.to_datetime(ed_df['outtime'])\n",
    "ed_df = ed_df.sort_values(by=['subject_id', 'outtime'])\n",
    "latest_ed_times = ed_df.groupby('subject_id')['outtime'].max().reset_index()\n",
    "\n",
    "# Hospital Latest date\n",
    "admission_df = pd.read_csv(MIMIC_parent_path+'hosp/admissions.csv.gz', compression='gzip')\n",
    "admission_df['dischtime'] = pd.to_datetime(admission_df['dischtime'])\n",
    "admission_df = admission_df.sort_values(by=['subject_id', 'dischtime'])\n",
    "latest_admission_times = admission_df.groupby('subject_id')['dischtime'].max().reset_index()\n",
    "\n",
    "ecg_measurements_df = pd.read_csv('/data/padmalab_external/special_project/MIMIC-IV_ECG/physionet.org/files/mimic-iv-ecg/1.0/machine_measurements.csv')\n",
    "ecg_measurements_df['ecg_time'] = pd.to_datetime(ecg_measurements_df['ecg_time'])\n",
    "ecg_measurements_df = ecg_measurements_df.sort_values(by=['subject_id', 'ecg_time'])\n",
    "latest_ecg_times = ecg_measurements_df.loc[ecg_measurements_df.groupby('subject_id')['ecg_time'].idxmax()]\n",
    "\n",
    "# print the summary of the data\n",
    "print ('# patients in ECG:\\t', ecg_measurements_df['subject_id'].nunique())\n",
    "print ('# patients in patents_df:\\t', patents_df['subject_id'].nunique())\n",
    "print ('# patients in admission_df:\\t', admission_df['subject_id'].nunique())\n",
    "print ('# patients in ed_df:\\t', ed_df['subject_id'].nunique())\n",
    "\n",
    "subject_ids = patents_df['subject_id'].unique().tolist()\n",
    "censor_death_dict = {\n",
    "    'subject_id': [],\n",
    "    'censor_death_date': [],\n",
    "    'death_event': []\n",
    "}\n",
    "with tqdm(total=len(subject_ids)) as pbar:\n",
    "    for subject_id in subject_ids:\n",
    "        censor_death_dict['subject_id'].append(subject_id)\n",
    "        temp_patents_df = death_df[death_df['subject_id'] == subject_id]\n",
    "        event = temp_patents_df.shape[0] > 0\n",
    "        censor_death_date = pd.NaT\n",
    "        if event:\n",
    "            censor_death_date = temp_patents_df.iloc[0]['dod']\n",
    "        else:\n",
    "            temp_latest_ecg_times = latest_ecg_times[latest_ecg_times['subject_id'] == subject_id]\n",
    "            if temp_latest_ecg_times.shape[0] > 0:\n",
    "                dates = [d for d in [censor_death_date, temp_latest_ecg_times.iloc[0]['ecg_time']] if pd.notna(d)]\n",
    "                censor_death_date = max(dates) if dates else pd.NaT\n",
    "\n",
    "            temp_latest_ed_times = latest_ed_times[latest_ed_times['subject_id'] == subject_id]\n",
    "            if temp_latest_ed_times.shape[0] > 0:\n",
    "                dates = [d for d in [censor_death_date, temp_latest_ed_times.iloc[0]['outtime']] if pd.notna(d)]                \n",
    "                censor_death_date = max(dates) if dates else pd.NaT\n",
    "\n",
    "            temp_latest_admission_times = latest_admission_times[latest_admission_times['subject_id'] == subject_id]\n",
    "            if temp_latest_admission_times.shape[0] > 0:\n",
    "                dates = [d for d in [censor_death_date, temp_latest_admission_times.iloc[0]['dischtime']] if pd.notna(d)]                                \n",
    "                censor_death_date = max(dates) if dates else pd.NaT\n",
    "                \n",
    "        censor_death_dict['death_event'].append(event)\n",
    "        censor_death_dict['censor_death_date'].append(censor_death_date)\n",
    "        pbar.update(1)\n",
    "        \n",
    "death_ISD_df = pd.DataFrame.from_dict(censor_death_dict)\n",
    "death_ISD_df.to_csv('/data/padmalab_external/special_project/multi_event_data/MIMIC_IV_censor_death_date.csv')        "
   ]
  },
  {
   "cell_type": "code",
   "execution_count": 7,
   "id": "cc406383-a322-4aca-970d-4e7f55da06fc",
   "metadata": {},
   "outputs": [
    {
     "name": "stdout",
     "output_type": "stream",
     "text": [
      "# patients in ECG:\t 161352\n",
      "# patients in patents_df:\t 364627\n",
      "# patients in admission_df:\t 223452\n",
      "# patients in ed_df:\t 205504\n"
     ]
    }
   ],
   "source": []
  },
  {
   "cell_type": "code",
   "execution_count": 68,
   "id": "ac85adfb-0ae4-4de4-b6e5-3b13acd5741a",
   "metadata": {
    "tags": []
   },
   "outputs": [
    {
     "name": "stderr",
     "output_type": "stream",
     "text": [
      "100%|██████████████████████████████████████████████████████████████████████████████████████████████████████████████████████████████████████████████████████████████| 364627/364627 [09:39<00:00, 629.61it/s]\n"
     ]
    }
   ],
   "source": []
  },
  {
   "cell_type": "code",
   "execution_count": 69,
   "id": "b615e30a-1290-4899-b81c-e83934cc8f75",
   "metadata": {},
   "outputs": [],
   "source": []
  },
  {
   "cell_type": "code",
   "execution_count": 17,
   "id": "96cd6086-77d1-4ac6-a26d-e2c0a5677fbb",
   "metadata": {},
   "outputs": [
    {
     "data": {
      "text/plain": [
       "0"
      ]
     },
     "execution_count": 17,
     "metadata": {},
     "output_type": "execute_result"
    }
   ],
   "source": [
    "# len(set(patents_df['subject_id'].unique()).difference(set(ecg_measurements_df['subject_id'].unique())))\n",
    "# set(ecg_measurements_df['subject_id'].unique()).difference(set(patents_df['subject_id'].unique()))\n",
    "# len(set(admission_df['subject_id'].unique()).difference(set(patents_df['subject_id'].unique())))\n",
    "# len(set(ed_df['subject_id'].unique()).difference(set(patents_df['subject_id'].unique())))\n"
   ]
  }
 ],
 "metadata": {
  "kernelspec": {
   "display_name": "Python 3 (ipykernel)",
   "language": "python",
   "name": "python3"
  },
  "language_info": {
   "codemirror_mode": {
    "name": "ipython",
    "version": 3
   },
   "file_extension": ".py",
   "mimetype": "text/x-python",
   "name": "python",
   "nbconvert_exporter": "python",
   "pygments_lexer": "ipython3",
   "version": "3.10.4"
  }
 },
 "nbformat": 4,
 "nbformat_minor": 5
}
